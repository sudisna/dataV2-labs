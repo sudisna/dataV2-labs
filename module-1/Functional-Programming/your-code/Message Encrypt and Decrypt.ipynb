{
 "cells": [
  {
   "cell_type": "code",
   "execution_count": 2,
   "metadata": {},
   "outputs": [
    {
     "name": "stdout",
     "output_type": "stream",
     "text": [
      " please select what you want to do: \n",
      "1.Encrypt\n",
      "2.Decrypt              \n",
      "3.exit\n",
      "1\n",
      "\n",
      "Enter message for encryption: sw\n",
      "Enter an integer to use as a seed: 2\n"
     ]
    },
    {
     "ename": "UnboundLocalError",
     "evalue": "local variable 'result' referenced before assignment",
     "output_type": "error",
     "traceback": [
      "\u001b[1;31m---------------------------------------------------------------------------\u001b[0m",
      "\u001b[1;31mUnboundLocalError\u001b[0m                         Traceback (most recent call last)",
      "\u001b[1;32m<ipython-input-2-e69150ec46a7>\u001b[0m in \u001b[0;36m<module>\u001b[1;34m\u001b[0m\n\u001b[0;32m     50\u001b[0m         \u001b[0mresult\u001b[0m \u001b[1;33m=\u001b[0m \u001b[1;34m''\u001b[0m\u001b[1;33m\u001b[0m\u001b[1;33m\u001b[0m\u001b[0m\n\u001b[0;32m     51\u001b[0m \u001b[1;33m\u001b[0m\u001b[0m\n\u001b[1;32m---> 52\u001b[1;33m \u001b[0mmenu\u001b[0m\u001b[1;33m(\u001b[0m\u001b[1;33m)\u001b[0m\u001b[1;33m\u001b[0m\u001b[1;33m\u001b[0m\u001b[0m\n\u001b[0m",
      "\u001b[1;32m<ipython-input-2-e69150ec46a7>\u001b[0m in \u001b[0;36mmenu\u001b[1;34m()\u001b[0m\n\u001b[0;32m     10\u001b[0m \"\"\"))#menu to choose what you want to do\n\u001b[0;32m     11\u001b[0m     \u001b[1;32mif\u001b[0m \u001b[0minput1\u001b[0m\u001b[1;33m==\u001b[0m\u001b[1;36m1\u001b[0m\u001b[1;33m:\u001b[0m\u001b[1;33m\u001b[0m\u001b[1;33m\u001b[0m\u001b[0m\n\u001b[1;32m---> 12\u001b[1;33m         \u001b[0mencrypt\u001b[0m\u001b[1;33m(\u001b[0m\u001b[1;33m)\u001b[0m   \u001b[1;31m#takes you to the encrypt function\u001b[0m\u001b[1;33m\u001b[0m\u001b[1;33m\u001b[0m\u001b[0m\n\u001b[0m\u001b[0;32m     13\u001b[0m     \u001b[1;32melif\u001b[0m \u001b[0minput1\u001b[0m\u001b[1;33m==\u001b[0m\u001b[1;36m2\u001b[0m\u001b[1;33m:\u001b[0m\u001b[1;33m\u001b[0m\u001b[1;33m\u001b[0m\u001b[0m\n\u001b[0;32m     14\u001b[0m         \u001b[0mdecrypt\u001b[0m\u001b[1;33m(\u001b[0m\u001b[1;33m)\u001b[0m\u001b[1;31m#takes you to the decrypt function\u001b[0m\u001b[1;33m\u001b[0m\u001b[1;33m\u001b[0m\u001b[0m\n",
      "\u001b[1;32m<ipython-input-2-e69150ec46a7>\u001b[0m in \u001b[0;36mencrypt\u001b[1;34m()\u001b[0m\n\u001b[0;32m     31\u001b[0m \u001b[1;33m\u001b[0m\u001b[0m\n\u001b[0;32m     32\u001b[0m         \u001b[1;32mfor\u001b[0m \u001b[0mi\u001b[0m \u001b[1;32min\u001b[0m \u001b[0mrange\u001b[0m\u001b[1;33m(\u001b[0m\u001b[1;36m0\u001b[0m\u001b[1;33m,\u001b[0m \u001b[0mlen\u001b[0m\u001b[1;33m(\u001b[0m\u001b[0mmessage\u001b[0m\u001b[1;33m)\u001b[0m\u001b[1;33m)\u001b[0m\u001b[1;33m:\u001b[0m\u001b[1;33m\u001b[0m\u001b[1;33m\u001b[0m\u001b[0m\n\u001b[1;32m---> 33\u001b[1;33m             \u001b[0mresult\u001b[0m \u001b[1;33m+=\u001b[0m \u001b[0mshuffled_list\u001b[0m\u001b[1;33m[\u001b[0m\u001b[0mcharacters_in_order\u001b[0m\u001b[1;33m.\u001b[0m\u001b[0mindex\u001b[0m\u001b[1;33m(\u001b[0m\u001b[0mmessage\u001b[0m\u001b[1;33m[\u001b[0m\u001b[0mi\u001b[0m\u001b[1;33m]\u001b[0m\u001b[1;33m)\u001b[0m\u001b[1;33m]\u001b[0m\u001b[1;33m\u001b[0m\u001b[1;33m\u001b[0m\u001b[0m\n\u001b[0m\u001b[0;32m     34\u001b[0m \u001b[1;33m\u001b[0m\u001b[0m\n\u001b[0;32m     35\u001b[0m         \u001b[0mprint\u001b[0m\u001b[1;33m(\u001b[0m\u001b[0mresult\u001b[0m \u001b[1;33m+\u001b[0m \u001b[1;34m'\\n\\n'\u001b[0m\u001b[1;33m)\u001b[0m\u001b[1;33m\u001b[0m\u001b[1;33m\u001b[0m\u001b[0m\n",
      "\u001b[1;31mUnboundLocalError\u001b[0m: local variable 'result' referenced before assignment"
     ]
    }
   ],
   "source": [
    "import random\n",
    "import sys\n",
    "\n",
    "characters_in_order = [chr(x) for x in range(32,127)]\n",
    "def menu():\n",
    "    input1=int(input(\"\"\" please select what you want to do: \n",
    "1.Encrypt\n",
    "2.Decrypt              \n",
    "3.exit\n",
    "\"\"\"))#menu to choose what you want to do\n",
    "    if input1==1:\n",
    "        encrypt()   #takes you to the encrypt function  \n",
    "    elif input1==2:\n",
    "        decrypt()#takes you to the decrypt function\n",
    "    elif input1==3:\n",
    "        sys.exit #exits the program\n",
    "    else:\n",
    "        print(\"invalid entry try again\")\n",
    "       \n",
    "\n",
    "\n",
    "def encrypt():\n",
    "        message = input('\\nEnter message for encryption: ')\n",
    "\n",
    "        r_seed = input('Enter an integer to use as a seed: ')\n",
    "        random.seed(r_seed)\n",
    "        shuffled_list = characters_in_order\n",
    "        random.shuffle(shuffled_list)\n",
    "\n",
    "        for i in range(0, len(message)):\n",
    "            result += shuffled_list[characters_in_order.index(message[i])]\n",
    "\n",
    "        print(result + '\\n\\n')\n",
    "        result = ''\n",
    "\n",
    "def decrypt():\n",
    "        message = input('\\nEnter message to decrypt: ')\n",
    "\n",
    "        r_seed = input('Enter an integer to use as a seed (should be the same one used to encrypt): ')\n",
    "        random.seed(r_seed)\n",
    "        shuffled_list = characters_in_order\n",
    "        random.shuffle(shuffled_list)\n",
    "\n",
    "        for i in range(0, len(message)):\n",
    "            result += characters_in_order[shuffled_list.index(message[i])]\n",
    "\n",
    "        print(result + '\\n\\n')\n",
    "        result = ''\n",
    "\n",
    "menu()"
   ]
  },
  {
   "cell_type": "code",
   "execution_count": null,
   "metadata": {},
   "outputs": [],
   "source": []
  },
  {
   "cell_type": "code",
   "execution_count": null,
   "metadata": {},
   "outputs": [],
   "source": []
  }
 ],
 "metadata": {
  "kernelspec": {
   "display_name": "Python 3",
   "language": "python",
   "name": "python3"
  },
  "language_info": {
   "codemirror_mode": {
    "name": "ipython",
    "version": 3
   },
   "file_extension": ".py",
   "mimetype": "text/x-python",
   "name": "python",
   "nbconvert_exporter": "python",
   "pygments_lexer": "ipython3",
   "version": "3.7.6"
  }
 },
 "nbformat": 4,
 "nbformat_minor": 4
}
