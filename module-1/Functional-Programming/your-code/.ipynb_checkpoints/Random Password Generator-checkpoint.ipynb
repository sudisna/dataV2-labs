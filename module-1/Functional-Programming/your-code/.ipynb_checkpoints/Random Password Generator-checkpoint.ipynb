{
 "cells": [
  {
   "cell_type": "code",
   "execution_count": null,
   "metadata": {},
   "outputs": [],
   "source": [
    "#Strong Random Password Generator\n",
    "\n",
    "#ask user if s/he wants to create a new password\n",
    "#if yes, generate a new password, according to the following rules: \n",
    "#between 8 and 12 characters\n",
    "#containing at least one uppercase letter\n",
    "#one lowercase letter\n",
    "#one digit \n",
    "#one special character\n",
    "import random\n",
    "import string \n",
    "\n",
    "def create_password():\n",
    "    input1=int(input(\"\"\" Do you want to create new password: \n",
    "1.YES\n",
    "2.NO              \n",
    "\"\"\"))#menu to choose what you want to do\n",
    "    print(\"The choice entered: \",input1)\n",
    "    if input1==1:\n",
    "        qty_of_passwd = int(input('How many passwords do you need?'))\n",
    " \n",
    "        passwd_len = int(input('How many characters in your password?'))\n",
    "        password_generator(passwd_len,qty_of_passwd)   #takes you to the password_generator function  \n",
    "    elif input1==2:\n",
    "         print(\"Come back!! We secure your data\") #exits the program\n",
    "           \n",
    "\n",
    " \n",
    "\n",
    "def random_password(length:int):\n",
    "         \n",
    "        chars=string.ascii_uppercase + string.ascii_lowercase + string.digits + string.punctuation\n",
    "        return ''.join(random.choice(chars) for x in range(length))\n",
    " \n",
    " \n",
    "def password_generator(length, qty=1):\n",
    "  \n",
    "     if length < 8 :\n",
    "        print(\"password length={} is too short,\".format(length),\n",
    "            \"minimum length=8\")\n",
    "       \n",
    "     elif length > 13:\n",
    "        print(\"password length={} is too big,\".format(length),\n",
    "            \"maximum length=12\")\n",
    "       \n",
    "     else:\n",
    "        print(\"Your passwords generated are: \")    \n",
    "        for i in range(qty):\n",
    "            print(random_password(length))\n",
    "\n",
    "\n",
    "\n",
    "create_password()"
   ]
  },
  {
   "cell_type": "code",
   "execution_count": null,
   "metadata": {},
   "outputs": [],
   "source": []
  },
  {
   "cell_type": "code",
   "execution_count": null,
   "metadata": {},
   "outputs": [],
   "source": []
  }
 ],
 "metadata": {
  "kernelspec": {
   "display_name": "Python 3",
   "language": "python",
   "name": "python3"
  },
  "language_info": {
   "codemirror_mode": {
    "name": "ipython",
    "version": 3
   },
   "file_extension": ".py",
   "mimetype": "text/x-python",
   "name": "python",
   "nbconvert_exporter": "python",
   "pygments_lexer": "ipython3",
   "version": "3.7.6"
  }
 },
 "nbformat": 4,
 "nbformat_minor": 4
}
