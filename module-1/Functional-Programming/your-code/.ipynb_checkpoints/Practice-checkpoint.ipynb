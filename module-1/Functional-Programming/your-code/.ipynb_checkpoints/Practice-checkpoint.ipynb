{
 "cells": [
  {
   "cell_type": "code",
   "execution_count": 5,
   "metadata": {},
   "outputs": [
    {
     "name": "stdout",
     "output_type": "stream",
     "text": [
      "['ironhack', 'is', 'cool', 'i', 'love', 'am', 'a', 'student', 'at']\n",
      "[['ironhack', 'is', 'cool'], ['i', 'love', 'ironhack'], ['i', 'am', 'a', 'student', 'at', 'ironhack']]\n",
      "[[1, 1, 1, 0, 0, 0, 0, 0, 0], [1, 0, 0, 1, 1, 0, 0, 0, 0], [1, 0, 0, 1, 0, 1, 1, 1, 1]]\n"
     ]
    }
   ],
   "source": [
    "import string\n",
    "a_corpus = ['Ironhack is Cool!', 'I love Ironhack', 'I am a student at Ironhack.']\n",
    "corpus_lower_case = [i.lower() for i in a_corpus]\n",
    "corpus_rem_punct = [i.rstrip( string.punctuation) for i in corpus_lower_case]\n",
    "bag_of_words_split = [i.split(' ') for i in corpus_rem_punct]\n",
    "bag_of_words = []\n",
    "for item in bag_of_words_split:\n",
    "    for word in item:\n",
    "        if word not in bag_of_words:\n",
    "            bag_of_words.append(word) \n",
    "print(bag_of_words)\n",
    "print(bag_of_words_split)\n",
    "term_freq = [] \n",
    "for item in bag_of_words_split:\n",
    "    temp = []\n",
    "    for b in bag_of_words:\n",
    "               \n",
    "            if b in item:\n",
    "                temp.append(1)\n",
    "            else:\n",
    "                temp.append(0)\n",
    "    term_freq.append(temp)\n",
    "print(term_freq)"
   ]
  },
  {
   "cell_type": "code",
   "execution_count": null,
   "metadata": {},
   "outputs": [],
   "source": []
  },
  {
   "cell_type": "code",
   "execution_count": null,
   "metadata": {},
   "outputs": [],
   "source": []
  }
 ],
 "metadata": {
  "kernelspec": {
   "display_name": "Python 3",
   "language": "python",
   "name": "python3"
  },
  "language_info": {
   "codemirror_mode": {
    "name": "ipython",
    "version": 3
   },
   "file_extension": ".py",
   "mimetype": "text/x-python",
   "name": "python",
   "nbconvert_exporter": "python",
   "pygments_lexer": "ipython3",
   "version": "3.7.6"
  }
 },
 "nbformat": 4,
 "nbformat_minor": 4
}
