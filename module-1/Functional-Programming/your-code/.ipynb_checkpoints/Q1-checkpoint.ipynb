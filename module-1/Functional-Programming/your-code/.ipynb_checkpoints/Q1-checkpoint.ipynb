{
 "cells": [
  {
   "cell_type": "markdown",
   "metadata": {},
   "source": [
    "In the cell below, create a Python function that creates a Bag of Words.\n",
    "\n",
    "Requirements:\n",
    "\n",
    "1. Your function should accept the following parameters:\n",
    "    * `corpus` [REQUIRED] - list of strings.\n",
    "    * `stop_words` [OPTIONAL] - array of stop words. The default value is an empty array.\n",
    "\n",
    "1. Your function should return a Python object that contains the following:\n",
    "    * `bag_of_words` - array of strings of normalized unique words in the corpus.\n",
    "    * `term_freq` - array of the term-frequency vectors."
   ]
  },
  {
   "cell_type": "code",
   "execution_count": 36,
   "metadata": {},
   "outputs": [],
   "source": [
    "# Import required libraries\n",
    "import string\n",
    "# Define function\n",
    "def get_bow_from_docs(corpus, stop_words=[]):\n",
    "    \n",
    "    # In the function, first define the variables you will use such as `corpus`, `bag_of_words`, and `term_freq`.\n",
    "    \n",
    "    bag_of_words = []\n",
    "    term_freq = []\n",
    "    corpus_lower_case = []\n",
    "    corpus_rem_punct = []\n",
    "    bag_of_words_split = []\n",
    "    \n",
    "    \"\"\" Convert corpus to lowercases and remove punctuation.\"\"\"\n",
    "    corpus_lower_case = [i.lower() for i in corpus]\n",
    "    corpus_rem_punct = [i.rstrip( string.punctuation) for i in corpus_lower_case]\n",
    "    \n",
    "    \n",
    "   \n",
    "   # Loop `corpus`. Append the individual words in each doc into the `bag_of_words` array. The terms in `bag_of_words` \n",
    "    #should be unique which means before adding each term you need to check if it's already added to the array.\n",
    "    #In addition, check if each term is in the `stop_words` array. Only append the term to `bag_of_words`\n",
    "    #if it is not a stop word.\n",
    "   \n",
    "    bag_of_words_split = [i.split(' ') for i in corpus_rem_punct]\n",
    "\n",
    "    for item in bag_of_words_split:\n",
    "        for word in item:\n",
    "            if word not in bag_of_words and word not in stop_words:\n",
    "                bag_of_words.append(word) \n",
    "    #print(bag_of_words)\n",
    "    #print(bag_of_words_split)\n",
    "    \n",
    "    \n",
    "\n",
    "    \n",
    "\n",
    "    #Loop `corpus` again. For each doc string, count the number of occurrences of each term in `bag_of_words`. \n",
    "    #Create an array for each doc's term frequency and append it to `term_freq`.\n",
    "   \n",
    "    for item in bag_of_words_split:\n",
    "        temp = []\n",
    "        for b in bag_of_words: \n",
    "            if b in item:\n",
    "                temp.append(1)\n",
    "            else:\n",
    "                temp.append(0)\n",
    "        term_freq.append(temp)\n",
    "    #print(term_freq)\n",
    "    \n",
    "    # Now return your output as an object\n",
    "    return {\n",
    "        \"bag_of_words\": bag_of_words,\n",
    "        \"term_freq\": term_freq\n",
    "           }\n",
    "    "
   ]
  },
  {
   "cell_type": "markdown",
   "metadata": {},
   "source": [
    "Test your function without stop words. You should see the output like below:\n",
    "\n",
    "```{'bag_of_words': ['ironhack', 'is', 'cool', 'i', 'love', 'am', 'a', 'student', 'at'], 'term_freq': [[1, 1, 1, 0, 0, 0, 0, 0, 0], [1, 0, 0, 1, 1, 0, 0, 0, 0], [1, 0, 0, 1, 0, 1, 1, 1, 1]]}```"
   ]
  },
  {
   "cell_type": "code",
   "execution_count": 37,
   "metadata": {},
   "outputs": [
    {
     "name": "stdout",
     "output_type": "stream",
     "text": [
      "{'bag_of_words': ['ironhack', 'is', 'cool', 'i', 'love', 'am', 'a', 'student', 'at'], 'term_freq': [[1, 1, 1, 0, 0, 0, 0, 0, 0], [1, 0, 0, 1, 1, 0, 0, 0, 0], [1, 0, 0, 1, 0, 1, 1, 1, 1]]}\n"
     ]
    }
   ],
   "source": [
    "# Define the corpus list\n",
    "a_corpus = ['Ironhack is Cool!', 'I love Ironhack', 'I am a student at Ironhack.']\n",
    "\n",
    "# Obtain BoW from your function\n",
    "bow = get_bow_from_docs(a_corpus)\n",
    "\n",
    "# Print BoW\n",
    "print(bow)"
   ]
  },
  {
   "cell_type": "markdown",
   "metadata": {},
   "source": [
    "If your attempt above is successful, nice work done!\n",
    "\n",
    "Now test your function again with the stop words. In the previous lab we defined the stop words in a large array. In this lab, we'll import the stop words from Scikit-Learn."
   ]
  },
  {
   "cell_type": "code",
   "execution_count": 38,
   "metadata": {},
   "outputs": [
    {
     "name": "stdout",
     "output_type": "stream",
     "text": [
      "frozenset({'indeed', 'inc', 'out', 'but', 'side', 'via', 'yours', 'too', 'bottom', 'was', 'might', 'con', 'seeming', 'last', 'etc', 'everywhere', 'he', 'ours', 'these', 'him', 'detail', 'describe', 'twenty', 'whence', 'latterly', 'thin', 'others', 'nobody', 'it', 'ever', 'hereupon', 'empty', 'when', 'hers', 'over', 'any', 'fill', 'cry', 'mill', 'call', 'thus', 'thereupon', 'have', 'how', 'thru', 'about', 'sometime', 'moreover', 'cannot', 'bill', 'name', 'each', 'least', 'neither', 'i', 'whole', 'no', 'once', 'well', 'where', 'same', 'my', 'made', 'with', 'at', 'anyhow', 'had', 'before', 'something', 'whatever', 'if', 'afterwards', 'two', 'go', 'part', 'our', 'is', 'we', 'done', 'yet', 'noone', 'would', 'back', 'whose', 'here', 'five', 'under', 'only', 'perhaps', 'next', 'them', 'third', 'always', 'namely', 'one', 'whenever', 'during', 'top', 'take', 'nine', 'anywhere', 'and', 'because', 'they', 'none', 'another', 'me', 'front', 'four', 'until', 'becoming', 'off', 'along', 'amoungst', 'whereafter', 'see', 'who', 'since', 'serious', 'whom', 'system', 'much', 'whoever', 'am', 'almost', 'without', 'keep', 'many', 'an', 'around', 'first', 'be', 'own', 'were', 'due', 'thereby', 'also', 'upon', 'whether', 'even', 'fifteen', 'whither', 'other', 'that', 'thereafter', 'through', 'ourselves', 'ie', 'become', 'more', 'becomes', 'such', 'why', 'mine', 'find', 'often', 'most', 'against', 'into', 'somehow', 'or', 'beyond', 'hereafter', 'together', 'himself', 'interest', 'nothing', 'throughout', 'three', 'a', 'all', 'whereupon', 'been', 'herein', 'forty', 'anyone', 'ten', 'otherwise', 'fire', 'than', 'from', 'myself', 'mostly', 'us', 'per', 'now', 'between', 'herself', 'nor', 'what', 'de', 'everything', 'except', 'towards', 'though', 'on', 'further', 'hence', 'their', 'less', 'still', 'which', 'seemed', 'hundred', 'as', 'those', 'former', 'may', 'above', 'by', 'while', 'give', 'you', 'besides', 'anything', 'has', 'few', 're', 'behind', 'found', 'every', 'get', 'rather', 'its', 'being', 'toward', 'this', 'couldnt', 'among', 'thick', 'thence', 'the', 'beforehand', 'therein', 'are', 'within', 'someone', 'amongst', 'then', 'there', 'her', 'sometimes', 'itself', 'some', 'co', 'eleven', 'to', 'very', 'eight', 'never', 'hasnt', 'wherever', 'fifty', 'themselves', 'whereas', 'either', 'can', 'sincere', 'show', 'nowhere', 'again', 'seem', 'enough', 'down', 'elsewhere', 'else', 'both', 'must', 'beside', 'do', 'full', 'should', 'amount', 'whereby', 'yourself', 'nevertheless', 'meanwhile', 'could', 'onto', 'un', 'formerly', 'up', 'for', 'she', 'however', 'so', 'hereby', 'everyone', 'latter', 'six', 'cant', 'alone', 'your', 'below', 'eg', 'after', 'move', 'sixty', 'his', 'of', 'put', 'although', 'anyway', 'in', 'somewhere', 'wherein', 'across', 'therefore', 'please', 'seems', 'several', 'ltd', 'yourselves', 'will', 'twelve', 'became', 'not', 'already'})\n"
     ]
    }
   ],
   "source": [
    "from sklearn.feature_extraction import stop_words\n",
    "print(stop_words.ENGLISH_STOP_WORDS)"
   ]
  },
  {
   "cell_type": "markdown",
   "metadata": {},
   "source": [
    "You should have seen a large list of words that looks like:\n",
    "\n",
    "```frozenset({'across', 'mine', 'cannot', ...})```\n",
    "\n",
    "`frozenset` is a type of Python object that is immutable. In this lab you can use it just like an array (list) without conversion."
   ]
  },
  {
   "cell_type": "markdown",
   "metadata": {},
   "source": [
    "Next, test your function with supplying `stop_words.ENGLISH_STOP_WORDS` as the second parameter."
   ]
  },
  {
   "cell_type": "code",
   "execution_count": 39,
   "metadata": {},
   "outputs": [
    {
     "name": "stdout",
     "output_type": "stream",
     "text": [
      "{'bag_of_words': ['ironhack', 'cool', 'love', 'student'], 'term_freq': [[1, 1, 0, 0], [1, 0, 1, 0], [1, 0, 0, 1]]}\n"
     ]
    }
   ],
   "source": [
    "bow = get_bow_from_docs(a_corpus, stop_words.ENGLISH_STOP_WORDS)\n",
    "\n",
    "\n",
    "print(bow)"
   ]
  },
  {
   "cell_type": "markdown",
   "metadata": {},
   "source": [
    "You should have seen:\n",
    "\n",
    "```{'bag_of_words': ['ironhack', 'cool', 'love', 'student'], 'term_freq': [[1, 1, 0, 0], [1, 0, 1, 0], [1, 0, 0, 1]]}```"
   ]
  },
  {
   "cell_type": "code",
   "execution_count": null,
   "metadata": {},
   "outputs": [],
   "source": []
  }
 ],
 "metadata": {
  "kernelspec": {
   "display_name": "Python 3",
   "language": "python",
   "name": "python3"
  },
  "language_info": {
   "codemirror_mode": {
    "name": "ipython",
    "version": 3
   },
   "file_extension": ".py",
   "mimetype": "text/x-python",
   "name": "python",
   "nbconvert_exporter": "python",
   "pygments_lexer": "ipython3",
   "version": "3.7.6"
  }
 },
 "nbformat": 4,
 "nbformat_minor": 2
}
