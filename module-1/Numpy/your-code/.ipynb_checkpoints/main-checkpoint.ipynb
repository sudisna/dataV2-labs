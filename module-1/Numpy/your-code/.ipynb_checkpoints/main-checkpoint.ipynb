{
 "cells": [
  {
   "cell_type": "markdown",
   "metadata": {},
   "source": [
    "# Introduction to NumPy\n",
    "\n",
    "\n",
    "#### 1. Import NumPy under the name np."
   ]
  },
  {
   "cell_type": "code",
   "execution_count": 1,
   "metadata": {},
   "outputs": [],
   "source": [
    "# your code here\n",
    "import numpy as np"
   ]
  },
  {
   "cell_type": "markdown",
   "metadata": {},
   "source": [
    "#### 2. Print your NumPy version."
   ]
  },
  {
   "cell_type": "code",
   "execution_count": 2,
   "metadata": {},
   "outputs": [
    {
     "name": "stdout",
     "output_type": "stream",
     "text": [
      "1.18.1\n"
     ]
    }
   ],
   "source": [
    "# your code here\n",
    "print(np.__version__)"
   ]
  },
  {
   "cell_type": "markdown",
   "metadata": {},
   "source": [
    "#### 3. Generate a 2x3x5 3-dimensional array with random values. Assign the array to variable *a*.\n",
    "**Challenge**: there are at least three easy ways that use numpy to generate random arrays. How many ways can you find?"
   ]
  },
  {
   "cell_type": "code",
   "execution_count": 59,
   "metadata": {},
   "outputs": [
    {
     "name": "stdout",
     "output_type": "stream",
     "text": [
      "[[[0.55798685 0.32717076 0.07354713 0.93375542 0.73062585]\n",
      "  [0.195402   0.27404953 0.98934867 0.73544179 0.73846356]\n",
      "  [0.47545124 0.42104328 0.14156772 0.9151397  0.07262293]]\n",
      "\n",
      " [[0.76907417 0.76304942 0.36341895 0.58726185 0.92623269]\n",
      "  [0.95924497 0.25461447 0.65298822 0.86953118 0.52936847]\n",
      "  [0.93935668 0.5625737  0.88412381 0.186791   0.10270207]]]\n"
     ]
    }
   ],
   "source": [
    "# Method 1\n",
    "a = np.empty((2,3,5))\n",
    "print(a)"
   ]
  },
  {
   "cell_type": "code",
   "execution_count": 42,
   "metadata": {},
   "outputs": [
    {
     "name": "stdout",
     "output_type": "stream",
     "text": [
      "[[[0.17033042 0.16626453 0.46401116 0.77083871 0.89061604]\n",
      "  [0.68454149 0.97700474 0.28251711 0.82080062 0.15783014]\n",
      "  [0.21708597 0.69478679 0.58432466 0.94384742 0.05041252]]\n",
      "\n",
      " [[0.11024722 0.92908709 0.0362537  0.06283799 0.76331369]\n",
      "  [0.56327821 0.51069178 0.89585489 0.47217675 0.48228944]\n",
      "  [0.83153953 0.36619655 0.03384615 0.98877949 0.45688217]]]\n"
     ]
    }
   ],
   "source": [
    "# Method 2\n",
    "\n",
    "a = np.random.random((2,3,5))\n",
    "print(a)"
   ]
  },
  {
   "cell_type": "code",
   "execution_count": 43,
   "metadata": {},
   "outputs": [
    {
     "name": "stdout",
     "output_type": "stream",
     "text": [
      "[[[20 77 16 54 67]\n",
      "  [75  8 87  4 10]\n",
      "  [25 70 40  2 77]]\n",
      "\n",
      " [[38 61 64 11 44]\n",
      "  [86 60  5 59 19]\n",
      "  [36 71  2 52 91]]]\n"
     ]
    }
   ],
   "source": [
    "# Method 3\n",
    "a = np.random.randint(low = 100, size =(2,3,5))\n",
    "print(a)"
   ]
  },
  {
   "cell_type": "markdown",
   "metadata": {},
   "source": [
    "#### 4. Print *a*.\n"
   ]
  },
  {
   "cell_type": "code",
   "execution_count": 45,
   "metadata": {},
   "outputs": [
    {
     "name": "stdout",
     "output_type": "stream",
     "text": [
      "[[[0.55798685 0.32717076 0.07354713 0.93375542 0.73062585]\n",
      "  [0.195402   0.27404953 0.98934867 0.73544179 0.73846356]\n",
      "  [0.47545124 0.42104328 0.14156772 0.9151397  0.07262293]]\n",
      "\n",
      " [[0.76907417 0.76304942 0.36341895 0.58726185 0.92623269]\n",
      "  [0.95924497 0.25461447 0.65298822 0.86953118 0.52936847]\n",
      "  [0.93935668 0.5625737  0.88412381 0.186791   0.10270207]]]\n"
     ]
    }
   ],
   "source": [
    "# your code here\n",
    "\n",
    "a = np.random.random((2,3,5))\n",
    "print(a)"
   ]
  },
  {
   "cell_type": "markdown",
   "metadata": {},
   "source": [
    "#### 5. Create a 5x2x3 3-dimensional array with all values equaling 1. Assign the array to variable *b*."
   ]
  },
  {
   "cell_type": "code",
   "execution_count": 46,
   "metadata": {},
   "outputs": [],
   "source": [
    "# your code here\n",
    "b = np.ones((5,2,3))\n"
   ]
  },
  {
   "cell_type": "markdown",
   "metadata": {},
   "source": [
    "#### 6. Print *b*.\n"
   ]
  },
  {
   "cell_type": "code",
   "execution_count": 47,
   "metadata": {},
   "outputs": [
    {
     "name": "stdout",
     "output_type": "stream",
     "text": [
      "[[[1. 1. 1.]\n",
      "  [1. 1. 1.]]\n",
      "\n",
      " [[1. 1. 1.]\n",
      "  [1. 1. 1.]]\n",
      "\n",
      " [[1. 1. 1.]\n",
      "  [1. 1. 1.]]\n",
      "\n",
      " [[1. 1. 1.]\n",
      "  [1. 1. 1.]]\n",
      "\n",
      " [[1. 1. 1.]\n",
      "  [1. 1. 1.]]]\n"
     ]
    }
   ],
   "source": [
    "# your code here\n",
    "print(b)"
   ]
  },
  {
   "cell_type": "markdown",
   "metadata": {},
   "source": [
    "#### 7. Do *a* and *b* have the same size? How do you prove that in Python code?"
   ]
  },
  {
   "cell_type": "code",
   "execution_count": 48,
   "metadata": {},
   "outputs": [
    {
     "name": "stdout",
     "output_type": "stream",
     "text": [
      "a and b have same size 30\n"
     ]
    }
   ],
   "source": [
    "# your code here\n",
    "if a.size == b.size:\n",
    "    print(\"a and b have same size\",a.size)\n",
    "else:\n",
    "    print(\"a and b do not have same size\",a.size,b.size)\n"
   ]
  },
  {
   "cell_type": "markdown",
   "metadata": {},
   "source": [
    "#### 8. Are you able to add *a* and *b*? Why or why not?\n"
   ]
  },
  {
   "cell_type": "code",
   "execution_count": 51,
   "metadata": {},
   "outputs": [
    {
     "ename": "ValueError",
     "evalue": "operands could not be broadcast together with shapes (2,3,5) (5,2,3) ",
     "output_type": "error",
     "traceback": [
      "\u001b[1;31m---------------------------------------------------------------------------\u001b[0m",
      "\u001b[1;31mValueError\u001b[0m                                Traceback (most recent call last)",
      "\u001b[1;32m<ipython-input-51-aa60f9a67e43>\u001b[0m in \u001b[0;36m<module>\u001b[1;34m\u001b[0m\n\u001b[0;32m      1\u001b[0m \u001b[1;31m# your answer here\u001b[0m\u001b[1;33m\u001b[0m\u001b[1;33m\u001b[0m\u001b[1;33m\u001b[0m\u001b[0m\n\u001b[1;32m----> 2\u001b[1;33m \u001b[0mprint\u001b[0m\u001b[1;33m(\u001b[0m\u001b[0mnp\u001b[0m\u001b[1;33m.\u001b[0m\u001b[0madd\u001b[0m\u001b[1;33m(\u001b[0m\u001b[0ma\u001b[0m\u001b[1;33m,\u001b[0m \u001b[0mb\u001b[0m\u001b[1;33m)\u001b[0m\u001b[1;33m)\u001b[0m\u001b[1;33m\u001b[0m\u001b[1;33m\u001b[0m\u001b[0m\n\u001b[0m\u001b[0;32m      3\u001b[0m \u001b[1;33m\u001b[0m\u001b[0m\n\u001b[0;32m      4\u001b[0m \u001b[1;31m# It will generate a ValueError: operands could not be broadcast together with shapes (2,3,5) (5,2,3)\u001b[0m\u001b[1;33m\u001b[0m\u001b[1;33m\u001b[0m\u001b[1;33m\u001b[0m\u001b[0m\n\u001b[0;32m      5\u001b[0m \u001b[1;31m#, both of them have not same shape altough having same size\u001b[0m\u001b[1;33m\u001b[0m\u001b[1;33m\u001b[0m\u001b[1;33m\u001b[0m\u001b[0m\n",
      "\u001b[1;31mValueError\u001b[0m: operands could not be broadcast together with shapes (2,3,5) (5,2,3) "
     ]
    }
   ],
   "source": [
    "# your answer here\n",
    "print(np.add(a, b))\n",
    "\n",
    "# It will generate a ValueError: operands could not be broadcast together with shapes (2,3,5) (5,2,3) \n",
    "#, both of them have not same shape altough having same size"
   ]
  },
  {
   "cell_type": "markdown",
   "metadata": {},
   "source": [
    "#### 9. Transpose *b* so that it has the same structure of *a* (i.e. become a 2x3x5 array). Assign the transposed array to variable *c*."
   ]
  },
  {
   "cell_type": "code",
   "execution_count": 52,
   "metadata": {},
   "outputs": [
    {
     "data": {
      "text/plain": [
       "(2, 3, 5)"
      ]
     },
     "execution_count": 52,
     "metadata": {},
     "output_type": "execute_result"
    }
   ],
   "source": [
    "# your code here\n",
    "c = np.transpose(b, (1,2,0))\n",
    "c.shape\n"
   ]
  },
  {
   "cell_type": "markdown",
   "metadata": {},
   "source": [
    "#### 10. Try to add *a* and *c*. Now it should work. Assign the sum to variable *d*. But why does it work now?"
   ]
  },
  {
   "cell_type": "code",
   "execution_count": 53,
   "metadata": {},
   "outputs": [
    {
     "name": "stdout",
     "output_type": "stream",
     "text": [
      "[[[1.55798685 1.32717076 1.07354713 1.93375542 1.73062585]\n",
      "  [1.195402   1.27404953 1.98934867 1.73544179 1.73846356]\n",
      "  [1.47545124 1.42104328 1.14156772 1.9151397  1.07262293]]\n",
      "\n",
      " [[1.76907417 1.76304942 1.36341895 1.58726185 1.92623269]\n",
      "  [1.95924497 1.25461447 1.65298822 1.86953118 1.52936847]\n",
      "  [1.93935668 1.5625737  1.88412381 1.186791   1.10270207]]]\n"
     ]
    }
   ],
   "source": [
    "# your code/answer here\n",
    "d = np.add(a, c)\n",
    "print(d)\n",
    "\n",
    "# because the transpose operation changed it t the same shape of c"
   ]
  },
  {
   "cell_type": "markdown",
   "metadata": {},
   "source": [
    "#### 11. Print *a* and *d*. Notice the difference and relation of the two array in terms of the values? Explain."
   ]
  },
  {
   "cell_type": "code",
   "execution_count": 54,
   "metadata": {},
   "outputs": [
    {
     "name": "stdout",
     "output_type": "stream",
     "text": [
      "[[[0.55798685 0.32717076 0.07354713 0.93375542 0.73062585]\n",
      "  [0.195402   0.27404953 0.98934867 0.73544179 0.73846356]\n",
      "  [0.47545124 0.42104328 0.14156772 0.9151397  0.07262293]]\n",
      "\n",
      " [[0.76907417 0.76304942 0.36341895 0.58726185 0.92623269]\n",
      "  [0.95924497 0.25461447 0.65298822 0.86953118 0.52936847]\n",
      "  [0.93935668 0.5625737  0.88412381 0.186791   0.10270207]]]\n",
      "[[[1.55798685 1.32717076 1.07354713 1.93375542 1.73062585]\n",
      "  [1.195402   1.27404953 1.98934867 1.73544179 1.73846356]\n",
      "  [1.47545124 1.42104328 1.14156772 1.9151397  1.07262293]]\n",
      "\n",
      " [[1.76907417 1.76304942 1.36341895 1.58726185 1.92623269]\n",
      "  [1.95924497 1.25461447 1.65298822 1.86953118 1.52936847]\n",
      "  [1.93935668 1.5625737  1.88412381 1.186791   1.10270207]]]\n"
     ]
    }
   ],
   "source": [
    "# your code/answer here\n",
    "print(a)\n",
    "print(d)\n",
    "#It has a difference of 1 because the b has one as an element"
   ]
  },
  {
   "cell_type": "markdown",
   "metadata": {},
   "source": [
    "#### 12. Multiply *a* and *c*. Assign the result to *e*."
   ]
  },
  {
   "cell_type": "code",
   "execution_count": 55,
   "metadata": {},
   "outputs": [
    {
     "name": "stdout",
     "output_type": "stream",
     "text": [
      "[[[0.55798685 0.32717076 0.07354713 0.93375542 0.73062585]\n",
      "  [0.195402   0.27404953 0.98934867 0.73544179 0.73846356]\n",
      "  [0.47545124 0.42104328 0.14156772 0.9151397  0.07262293]]\n",
      "\n",
      " [[0.76907417 0.76304942 0.36341895 0.58726185 0.92623269]\n",
      "  [0.95924497 0.25461447 0.65298822 0.86953118 0.52936847]\n",
      "  [0.93935668 0.5625737  0.88412381 0.186791   0.10270207]]]\n"
     ]
    }
   ],
   "source": [
    "# your code here\n",
    "e = np.multiply(a, c)\n",
    "print(e)"
   ]
  },
  {
   "cell_type": "markdown",
   "metadata": {},
   "source": [
    "#### 13. Does *e* equal to *a*? Why or why not?\n"
   ]
  },
  {
   "cell_type": "code",
   "execution_count": null,
   "metadata": {},
   "outputs": [],
   "source": [
    "# your code/answer here\n",
    "# yes they are equal because if you multiply 1 with anything you get the same result"
   ]
  },
  {
   "cell_type": "markdown",
   "metadata": {},
   "source": [
    "#### 14. Identify the max, min, and mean values in *d*. Assign those values to variables *d_max*, *d_min* and *d_mean*."
   ]
  },
  {
   "cell_type": "code",
   "execution_count": 58,
   "metadata": {},
   "outputs": [
    {
     "name": "stdout",
     "output_type": "stream",
     "text": [
      "Max:  1.9893486742351736 Min:  1.0726229253938084 Mean:  1.5643982697980692\n"
     ]
    }
   ],
   "source": [
    "# your code here\n",
    "d_max = np.max(d)\n",
    "d_min = np.min(d)\n",
    "d_mean = np.mean(d)\n",
    "print(\"Max: \",d_max,\"Min: \",d_min,\"Mean: \",d_mean)"
   ]
  },
  {
   "cell_type": "markdown",
   "metadata": {},
   "source": [
    "#### 15. Now we want to label the values in *d*. First create an empty array *f* with the same shape (i.e. 2x3x5) as *d* using `np.empty`.\n"
   ]
  },
  {
   "cell_type": "code",
   "execution_count": 62,
   "metadata": {},
   "outputs": [
    {
     "name": "stdout",
     "output_type": "stream",
     "text": [
      "[[[0.55798685 0.32717076 0.07354713 0.93375542 0.73062585]\n",
      "  [0.195402   0.27404953 0.98934867 0.73544179 0.73846356]\n",
      "  [0.47545124 0.42104328 0.14156772 0.9151397  0.07262293]]\n",
      "\n",
      " [[0.76907417 0.76304942 0.36341895 0.58726185 0.92623269]\n",
      "  [0.95924497 0.25461447 0.65298822 0.86953118 0.52936847]\n",
      "  [0.93935668 0.5625737  0.88412381 0.186791   0.10270207]]]\n"
     ]
    }
   ],
   "source": [
    "# your code here\n",
    "f = np.empty((2,3,5))\n",
    "print(f)"
   ]
  },
  {
   "cell_type": "markdown",
   "metadata": {},
   "source": [
    "#### 16. Populate the values in *f*. \n",
    "\n",
    "For each value in *d*, if it's larger than *d_min* but smaller than *d_mean*, assign 25 to the corresponding value in *f*. If a value in *d* is larger than *d_mean* but smaller than *d_max*, assign 75 to the corresponding value in *f*. If a value equals to *d_mean*, assign 50 to the corresponding value in *f*. Assign 0 to the corresponding value(s) in *f* for *d_min* in *d*. Assign 100 to the corresponding value(s) in *f* for *d_max* in *d*. In the end, f should have only the following values: 0, 25, 50, 75, and 100.\n",
    "\n",
    "**Note**: you don't have to use Numpy in this question."
   ]
  },
  {
   "cell_type": "code",
   "execution_count": 76,
   "metadata": {},
   "outputs": [
    {
     "name": "stdout",
     "output_type": "stream",
     "text": [
      "[[[0.55798685 0.32717076 0.07354713 0.93375542 0.73062585]\n",
      "  [0.195402   0.27404953 0.98934867 0.73544179 0.73846356]\n",
      "  [0.47545124 0.42104328 0.14156772 0.9151397  0.07262293]]\n",
      "\n",
      " [[0.76907417 0.76304942 0.36341895 0.58726185 0.92623269]\n",
      "  [0.95924497 0.25461447 0.65298822 0.86953118 0.52936847]\n",
      "  [0.93935668 0.5625737  0.88412381 0.186791   0.10270207]]]\n"
     ]
    }
   ],
   "source": [
    "# your code here\n",
    "np.where((d > d_min) & (d < d_mean), 25, f)\n",
    "np.where((d > d_mean) & (d < d_max), 75, f)\n",
    "np.where((d == d_mean), 50, f)\n",
    "np.where((d == d_min),  0, f)\n",
    "np.where((d == d_max), 100,f)\n",
    "print(f)"
   ]
  },
  {
   "cell_type": "code",
   "execution_count": 87,
   "metadata": {},
   "outputs": [
    {
     "name": "stdout",
     "output_type": "stream",
     "text": [
      "[[[ 25.  25.  25.  75.  75.]\n",
      "  [ 25.  25. 100.  75.  75.]\n",
      "  [ 25.  25.  25.  75.   0.]]\n",
      "\n",
      " [[ 75.  75.  25.  75.  75.]\n",
      "  [ 75.  25.  75.  75.  25.]\n",
      "  [ 75.  25.  75.  25.  25.]]]\n",
      "[[[1.55798685 1.32717076 1.07354713 1.93375542 1.73062585]\n",
      "  [1.195402   1.27404953 1.98934867 1.73544179 1.73846356]\n",
      "  [1.47545124 1.42104328 1.14156772 1.9151397  1.07262293]]\n",
      "\n",
      " [[1.76907417 1.76304942 1.36341895 1.58726185 1.92623269]\n",
      "  [1.95924497 1.25461447 1.65298822 1.86953118 1.52936847]\n",
      "  [1.93935668 1.5625737  1.88412381 1.186791   1.10270207]]]\n"
     ]
    }
   ],
   "source": [
    "# your code here\n",
    "\n",
    "f[d > d_mean] = 75\n",
    "f[d < d_mean] = 25\n",
    "f[d == d_mean]  = 50\n",
    "f[d == d_min] = 0\n",
    "f[d == d_max] = 100\n",
    "print(f)\n",
    "print(d)"
   ]
  },
  {
   "cell_type": "markdown",
   "metadata": {},
   "source": [
    "#### 17. Print *d* and *f*. Do you have your expected *f*?\n",
    "For instance, if your *d* is:\n",
    "```python\n",
    "[[[1.85836099, 1.67064465, 1.62576044, 1.40243961, 1.88454931],\n",
    "[1.75354326, 1.69403643, 1.36729252, 1.61415071, 1.12104981],\n",
    "[1.72201435, 1.1862918 , 1.87078449, 1.7726778 , 1.88180042]],\n",
    "[[1.44747908, 1.31673383, 1.02000951, 1.52218947, 1.97066381],\n",
    "[1.79129243, 1.74983003, 1.96028037, 1.85166831, 1.65450881],\n",
    "[1.18068344, 1.9587381 , 1.00656599, 1.93402165, 1.73514584]]]\n",
    "```\n",
    "Your *f* should be:\n",
    "```python\n",
    "[[[ 75.,  75.,  75.,  25.,  75.],\n",
    "[ 75.,  75.,  25.,  25.,  25.],\n",
    "[ 75.,  25.,  75.,  75.,  75.]],\n",
    "[[ 25.,  25.,  25.,  25., 100.],\n",
    "[ 75.,  75.,  75.,  75.,  75.],\n",
    "[ 25.,  75.,   0.,  75.,  75.]]]\n",
    "```"
   ]
  },
  {
   "cell_type": "code",
   "execution_count": null,
   "metadata": {},
   "outputs": [],
   "source": [
    "# your code here"
   ]
  },
  {
   "cell_type": "markdown",
   "metadata": {},
   "source": [
    "#### 18. Bonus question: instead of using numbers (i.e. 0, 25, 50, 75, and 100), use string values  (\"A\", \"B\", \"C\", \"D\", and \"E\") to label the array elements. For the example above, the expected result is:\n",
    "\n",
    "```python\n",
    "[[[ 'D',  'D',  'D',  'B',  'D'],\n",
    "[ 'D',  'D',  'B',  'B',  'B'],\n",
    "[ 'D',  'B',  'D',  'D',  'D']],\n",
    "[[ 'B',  'B',  'B',  'B',  'E'],\n",
    "[ 'D',  'D',  'D',  'D',  'D'],\n",
    "[ 'B',  'D',   'A',  'D', 'D']]]\n",
    "```\n",
    "**Note**: you don't have to use Numpy in this question."
   ]
  },
  {
   "cell_type": "code",
   "execution_count": null,
   "metadata": {},
   "outputs": [],
   "source": []
  },
  {
   "cell_type": "code",
   "execution_count": null,
   "metadata": {},
   "outputs": [],
   "source": []
  }
 ],
 "metadata": {
  "kernelspec": {
   "display_name": "Python 3",
   "language": "python",
   "name": "python3"
  },
  "language_info": {
   "codemirror_mode": {
    "name": "ipython",
    "version": 3
   },
   "file_extension": ".py",
   "mimetype": "text/x-python",
   "name": "python",
   "nbconvert_exporter": "python",
   "pygments_lexer": "ipython3",
   "version": "3.7.6"
  }
 },
 "nbformat": 4,
 "nbformat_minor": 2
}
