{
 "cells": [
  {
   "cell_type": "code",
   "execution_count": null,
   "metadata": {},
   "outputs": [
    {
     "name": "stdout",
     "output_type": "stream",
     "text": [
      "Welcome to this calculator!\n",
      "It can add and subtract whole numbers from zero to five\n",
      "Please choose your first number (zero to five): zero\n",
      "What do you want to do? plus or minus: minus\n",
      "Please choose your second number (zero to five): five\n",
      "zero minus five equals negative five.\n",
      "Welcome to this calculator!\n",
      "It can add and subtract whole numbers from zero to five\n"
     ]
    }
   ],
   "source": [
    "\"\"\"\n",
    "This is a dumb calculator that can add and subtract whole numbers from zero to five.\n",
    "When you run the code, you are prompted to enter two numbers (in the form of English\n",
    "word instead of number) and the operator sign (also in the form of English word).\n",
    "The code will perform the calculation and give the result if your input is what it\n",
    "expects.\n",
    "\n",
    "The code is very long and messy. Refactor it according to what you have learned about\n",
    "code simplicity and efficiency.\n",
    "\"\"\"\n",
    "# Importing required libraries\n",
    "import numpy as np\n",
    "\n",
    "#convert numbers to words\n",
    "def num2word (x):\n",
    "    num_dict = {0:\"zero\",1:\"one\",2:\"two\",3:\"three\",4:\"four\",\n",
    "          5:\"five\"}\n",
    "    return num_dict[x]\n",
    "\n",
    "#convert words to numbers\n",
    "def word2num(a):\n",
    "    word_dict={\"zero\":0,\"one\":1,\"two\":2,\"three\":3,\"four\":4,\"five\":5,\"six\": '6', \"seven\": '7', \"eight\": '8', \"nine\": '9', }\n",
    "    return word_dict[a]\n",
    "   \n",
    "    \n",
    "\n",
    "#perform addition\n",
    "def plus(a,c):\n",
    "    x = word2num(a)\n",
    "    y = word2num(c)\n",
    "    z = x + y\n",
    "    return f\"{a} plus {c} equals {num2word(z)}.\"\n",
    "#perform subtraction    \n",
    "def minus(a,c):\n",
    "    x = word2num(a)\n",
    "    y = word2num(c)\n",
    "    z = x - y\n",
    "    if z >= 0:\n",
    "        return f\"{a} minus {c} equals {num2word(z)}.\"\n",
    "    else:\n",
    "        z = -z\n",
    "        return f\"{a} minus {c} equals negative {num2word(z)}.\"\n",
    "\n",
    "# take input and perform calculation based on input\n",
    "def calc():\n",
    "    while True:\n",
    "        print('Welcome to this calculator!')\n",
    "        print('It can add and subtract whole numbers from zero to five')    \n",
    "        try:\n",
    "            \n",
    "            a = input('Please choose your first number (zero to five): ')\n",
    "            b = input('What do you want to do? plus or minus: ')\n",
    "            c = input('Please choose your second number (zero to five): ')\n",
    "            if b == \"plus\":\n",
    "                print(plus(a,c))\n",
    "            else:\n",
    "                print(minus(a,c))\n",
    "            \n",
    "\n",
    "        except ValueError:\n",
    "            print(\"I am not able to answer this question. Check your input.\")\n",
    "\n",
    "\n",
    "\n",
    "\n",
    "\n",
    "\n",
    "   \n",
    "calc() \n",
    "print(\"Thanks for using this calculator, goodbye :)\")\n"
   ]
  },
  {
   "cell_type": "code",
   "execution_count": null,
   "metadata": {},
   "outputs": [],
   "source": []
  },
  {
   "cell_type": "code",
   "execution_count": null,
   "metadata": {},
   "outputs": [],
   "source": []
  }
 ],
 "metadata": {
  "kernelspec": {
   "display_name": "Python 3",
   "language": "python",
   "name": "python3"
  },
  "language_info": {
   "codemirror_mode": {
    "name": "ipython",
    "version": 3
   },
   "file_extension": ".py",
   "mimetype": "text/x-python",
   "name": "python",
   "nbconvert_exporter": "python",
   "pygments_lexer": "ipython3",
   "version": "3.7.6"
  }
 },
 "nbformat": 4,
 "nbformat_minor": 4
}
