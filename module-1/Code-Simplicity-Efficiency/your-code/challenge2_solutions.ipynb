{
 "cells": [
  {
   "cell_type": "code",
   "execution_count": 10,
   "metadata": {},
   "outputs": [
    {
     "name": "stdout",
     "output_type": "stream",
     "text": [
      "Enter minimum string length: 6\n",
      "Enter maximum string length: 12\n",
      "How many random strings to generate? 5\n"
     ]
    },
    {
     "ename": "SystemExit",
     "evalue": "Incorrect min and max string lengths. Try again.",
     "output_type": "error",
     "traceback": [
      "An exception has occurred, use %tb to see the full traceback.\n",
      "\u001b[1;31mSystemExit\u001b[0m\u001b[1;31m:\u001b[0m Incorrect min and max string lengths. Try again.\n"
     ]
    }
   ],
   "source": [
    "\"\"\"\n",
    "The code below generates a given number of random strings that consists of numbers and \n",
    "lower case English letters. You can also define the range of the variable lengths of\n",
    "the strings being generated.\n",
    "\n",
    "The code is functional but has a lot of room for improvement. Use what you have learned\n",
    "about simple and efficient code, refactor the code.\n",
    "\"\"\"\n",
    "import string\n",
    "import random\n",
    "import sys\n",
    "def RandomStringGenerator(len:int):\n",
    "    p = 0\n",
    "    chars = string.ascii_lowercase + string.digits\n",
    "    s = ''\n",
    "    return ''.join(random.choice(chars) for p in range(len))\n",
    " \n",
    "\n",
    "def BatchStringGenerator(len:int):\n",
    "    r = []\n",
    "   \n",
    "    for i in range(len):\n",
    "        c = None\n",
    "        if a < 8 or b > 12:\n",
    "            sys.exit('Incorrect min and max string lengths. Try again.')\n",
    "            \n",
    "        elif a < b:\n",
    "            c = random.choice(range(a, b))\n",
    "        else:\n",
    "            c = a\n",
    "        r.append(RandomStringGenerator(c))                    \n",
    "    return r\n",
    "\n",
    "a = int(input('Enter minimum string length: '))\n",
    "b = int(input('Enter maximum string length: '))\n",
    "n = int(input('How many random strings to generate? '))\n",
    "\n",
    "print(BatchStringGenerator(n))\n"
   ]
  },
  {
   "cell_type": "code",
   "execution_count": null,
   "metadata": {},
   "outputs": [],
   "source": []
  },
  {
   "cell_type": "code",
   "execution_count": null,
   "metadata": {},
   "outputs": [],
   "source": []
  }
 ],
 "metadata": {
  "kernelspec": {
   "display_name": "Python 3",
   "language": "python",
   "name": "python3"
  },
  "language_info": {
   "codemirror_mode": {
    "name": "ipython",
    "version": 3
   },
   "file_extension": ".py",
   "mimetype": "text/x-python",
   "name": "python",
   "nbconvert_exporter": "python",
   "pygments_lexer": "ipython3",
   "version": "3.7.6"
  }
 },
 "nbformat": 4,
 "nbformat_minor": 4
}
