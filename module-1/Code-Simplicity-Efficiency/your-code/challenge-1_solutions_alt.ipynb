{
 "cells": [
  {
   "cell_type": "code",
   "execution_count": null,
   "metadata": {},
   "outputs": [
    {
     "name": "stdout",
     "output_type": "stream",
     "text": [
      "Welcome to this calculator!\n",
      "It can add and subtract whole numbers from zero to five\n",
      "Please choose your first number (zero to five): zero\n",
      "What do you want to do? plus or minus: plus\n",
      "Please choose your second number (zero to five): five\n",
      "I am not able to answer this question. Check your input.\n",
      "Welcome to this calculator!\n",
      "It can add and subtract whole numbers from zero to five\n"
     ]
    }
   ],
   "source": [
    "\"\"\"\n",
    "This is a dumb calculator that can add and subtract whole numbers from zero to five.\n",
    "When you run the code, you are prompted to enter two numbers (in the form of English\n",
    "word instead of number) and the operator sign (also in the form of English word).\n",
    "The code will perform the calculation and give the result if your input is what it\n",
    "expects.\n",
    "\n",
    "The code is very long and messy. Refactor it according to what you have learned about\n",
    "code simplicity and efficiency.\n",
    "\"\"\"\n",
    "# Importing required libraries\n",
    "from num2words import num2words \n",
    "from WordToNum.word_to_num import WordToNum\n",
    "import numpy as np\n",
    "\n",
    "def word2num(a):\n",
    "    wtn = WordToNum()\n",
    "    wtn.to_num(\"a\")\n",
    "    \n",
    "def num2word(x,y):\n",
    "    num2words(x)\n",
    "    num2words(y)\n",
    "\n",
    "def plus(a,c):\n",
    "    x = word2num(a)\n",
    "    y = word2num(c)\n",
    "    z = x + y\n",
    "    \n",
    "    myoutput = \"{a} plus {c} equals {z}\"\n",
    "    return print(myoutput.format(a,b,z))\n",
    "\n",
    "    \n",
    "def minus(a,c):\n",
    "    x = word2num(a)\n",
    "    y = word2num(c)\n",
    "    z = x - y\n",
    "    \n",
    "    myoutput = \"{a} plus {c} equals {z}\"\n",
    "    return print(myoutput.format(a,b,z))\n",
    "    \n",
    "\n",
    "def calc():\n",
    "    while True:\n",
    "        print('Welcome to this calculator!')\n",
    "        print('It can add and subtract whole numbers from zero to five')    \n",
    "        try:\n",
    "            \n",
    "            a = input('Please choose your first number (zero to five): ')\n",
    "            b = input('What do you want to do? plus or minus: ')\n",
    "            c = input('Please choose your second number (zero to five): ')\n",
    "            if b == \"plus\":\n",
    "                plus(a,c)\n",
    "            else:\n",
    "                minus(a,c)\n",
    "            \n",
    "\n",
    "        except ValueError:\n",
    "            print(\"I am not able to answer this question. Check your input.\")\n",
    "\n",
    "\n",
    "\n",
    "\n",
    "\n",
    "\n",
    "   \n",
    "calc() \n",
    "print(\"Thanks for using this calculator, goodbye :)\")\n"
   ]
  },
  {
   "cell_type": "code",
   "execution_count": null,
   "metadata": {},
   "outputs": [],
   "source": []
  },
  {
   "cell_type": "code",
   "execution_count": null,
   "metadata": {},
   "outputs": [],
   "source": []
  },
  {
   "cell_type": "code",
   "execution_count": null,
   "metadata": {},
   "outputs": [],
   "source": []
  }
 ],
 "metadata": {
  "kernelspec": {
   "display_name": "Python 3",
   "language": "python",
   "name": "python3"
  },
  "language_info": {
   "codemirror_mode": {
    "name": "ipython",
    "version": 3
   },
   "file_extension": ".py",
   "mimetype": "text/x-python",
   "name": "python",
   "nbconvert_exporter": "python",
   "pygments_lexer": "ipython3",
   "version": "3.7.6"
  }
 },
 "nbformat": 4,
 "nbformat_minor": 4
}
